{
 "metadata": {
  "name": "",
  "signature": "sha256:4d51a0c1cfe7847863aaad4e6c999bdb79295ff6439ca01cde8a0cf0232b81c9"
 },
 "nbformat": 3,
 "nbformat_minor": 0,
 "worksheets": [
  {
   "cells": [
    {
     "cell_type": "code",
     "collapsed": false,
     "input": [
      "import pandas as pd\n",
      "from numpy import *\n",
      "from sklearn import *\n",
      "from sklearn.tree import DecisionTreeClassifier\n",
      "from sklearn.neighbors import KNeighborsClassifier\n",
      "from sklearn.ensemble import AdaBoostClassifier\n",
      "from sklearn.tree import DecisionTreeClassifier\n",
      "\n",
      "from sklearn import preprocessing\n",
      "from sklearn import cross_validation\n"
     ],
     "language": "python",
     "metadata": {},
     "outputs": [
      {
       "output_type": "stream",
       "stream": "stderr",
       "text": [
        "/Library/Python/2.7/site-packages/sklearn/lda.py:4: DeprecationWarning: lda.LDA has been moved to discriminant_analysis.LinearDiscriminantAnalysis in 0.17 and will be removed in 0.19\n",
        "  \"in 0.17 and will be removed in 0.19\", DeprecationWarning)\n",
        "/Library/Python/2.7/site-packages/sklearn/qda.py:4: DeprecationWarning: qda.QDA has been moved to discriminant_analysis.QuadraticDiscriminantAnalysis in 0.17 and will be removed in 0.19.\n",
        "  \"in 0.17 and will be removed in 0.19.\", DeprecationWarning)\n"
       ]
      }
     ],
     "prompt_number": 1
    },
    {
     "cell_type": "markdown",
     "metadata": {},
     "source": [
      "# Data Format\n",
      "## Rows: 126837, Columns: 53\n",
      "## Data headers = str of integers 0-64, excluding some integers; all distinct\n",
      "## label = binary label (either label = 1 or label = -1) indicating whether these entities are coreferences\n",
      "\n",
      "### useful pandas_functions\n",
      "df.iloc[[#]] - gets index at # as dataframe\n",
      "\n",
      "df.iloc[#]   - gets index at # as series\n",
      "\n",
      "df.unstack() - dataframe to series"
     ]
    },
    {
     "cell_type": "code",
     "collapsed": false,
     "input": [
      "# Formatting Data\n",
      "data = pd.read_csv('data.csv')\n",
      "numeric_data = data._get_numeric_data()\n",
      "data_arrays = array(numeric_data)\n",
      "\n",
      "l_ix = data_arrays.shape[1]\n",
      "X = [r[:l_ix-1] for r in data_arrays]\n",
      "Y = [r[l_ix-1] for r in data_arrays]"
     ],
     "language": "python",
     "metadata": {},
     "outputs": [],
     "prompt_number": 2
    },
    {
     "cell_type": "markdown",
     "metadata": {},
     "source": [
      "# DecisionTreeClassifier\n",
      "http://scikit-learn.org/stable/modules/tree.html\n",
      "\n",
      "\n",
      "1: 0.705157018692\n",
      "2: 0.709099079241\n",
      "3: 0.719040982336\n",
      "4: 0.722454786648\n",
      "5: 0.732861816579\n",
      "6: 0.73488019188\n",
      "7: 0.742764332246\n",
      "8: 0.747849616889\n",
      "9: 0.754913779394\n",
      "10: 0.763081709584\n",
      "11: 0.770366694744\n",
      "12: 0.779733029205\n",
      "13: 0.789462020317\n",
      "14: 0.799679826166\n",
      "15: 0.808872714385\n",
      "16: 0.818562362832\n",
      "17: 0.828204683345\n",
      "18: 0.83713747959\n",
      "19: 0.844658933471\n",
      "20: 0.851762542448\n",
      "21: 0.858101373007\n",
      "22: 0.862760869124\n",
      "23: 0.866829089008\n",
      "24: 0.870290175256\n",
      "25: 0.873120583555\n",
      "26: 0.875115276552\n",
      "27: 0.876700011076\n",
      "28: 0.877456897463\n",
      "29: 0.877961475749\n",
      "30: 0.878308360151\n",
      "31: 0.878316260882\n",
      "32: 0.878576403205\n",
      "33: 0.879088880978\n",
      "34: 0.878773496941\n",
      "35: 0.879120395637\n",
      "36: 0.878939098393\n",
      "37: 0.8790494544\n",
      "38: 0.879033673451\n",
      "39: 0.879096766791\n",
      "40: 0.87852910138\n",
      "41: 0.879041572938\n",
      "42: 0.879483084609\n",
      "43: 0.879356929005\n",
      "44: 0.879325395697\n",
      "45: 0.879041571074\n",
      "46: 0.87914405059\n",
      "47: 0.879167723571\n",
      "48: 0.878828696389\n",
      "49: 0.879080992679\n",
      "50: 0.879144067374"
     ]
    },
    {
     "cell_type": "code",
     "collapsed": false,
     "input": [
      "depth = range(1,51)\n",
      "\n",
      "for d in depth:\n",
      "    clf = tree.DecisionTreeClassifier(max_depth=d)\n",
      "    clf = clf.fit(X, Y)\n",
      "    accuracy = cross_validation.cross_val_score(clf, X, Y, cv=10)\n",
      "    print str(d) + \": \" + str(mean(accuracy))"
     ],
     "language": "python",
     "metadata": {},
     "outputs": [
      {
       "output_type": "stream",
       "stream": "stdout",
       "text": [
        "1: 0.705157018692\n",
        "2: 0.709099079241"
       ]
      },
      {
       "output_type": "stream",
       "stream": "stdout",
       "text": [
        "\n",
        "3: 0.719040982336"
       ]
      },
      {
       "output_type": "stream",
       "stream": "stdout",
       "text": [
        "\n",
        "4: 0.722454786648"
       ]
      },
      {
       "output_type": "stream",
       "stream": "stdout",
       "text": [
        "\n",
        "5: 0.732861816579"
       ]
      },
      {
       "output_type": "stream",
       "stream": "stdout",
       "text": [
        "\n",
        "6: 0.73488019188"
       ]
      },
      {
       "output_type": "stream",
       "stream": "stdout",
       "text": [
        "\n",
        "7: 0.742764332246"
       ]
      },
      {
       "output_type": "stream",
       "stream": "stdout",
       "text": [
        "\n",
        "8: 0.747849616889"
       ]
      },
      {
       "output_type": "stream",
       "stream": "stdout",
       "text": [
        "\n",
        "9: 0.754913779394"
       ]
      },
      {
       "output_type": "stream",
       "stream": "stdout",
       "text": [
        "\n",
        "10: 0.763081709584"
       ]
      },
      {
       "output_type": "stream",
       "stream": "stdout",
       "text": [
        "\n",
        "11: 0.770366694744"
       ]
      },
      {
       "output_type": "stream",
       "stream": "stdout",
       "text": [
        "\n",
        "12: 0.779733029205"
       ]
      },
      {
       "output_type": "stream",
       "stream": "stdout",
       "text": [
        "\n",
        "13: 0.789462020317"
       ]
      },
      {
       "output_type": "stream",
       "stream": "stdout",
       "text": [
        "\n",
        "14: 0.799679826166"
       ]
      },
      {
       "output_type": "stream",
       "stream": "stdout",
       "text": [
        "\n",
        "15: 0.808872714385"
       ]
      },
      {
       "output_type": "stream",
       "stream": "stdout",
       "text": [
        "\n",
        "16: 0.818562362832"
       ]
      },
      {
       "output_type": "stream",
       "stream": "stdout",
       "text": [
        "\n",
        "17: 0.828204683345"
       ]
      },
      {
       "output_type": "stream",
       "stream": "stdout",
       "text": [
        "\n",
        "18: 0.83713747959"
       ]
      },
      {
       "output_type": "stream",
       "stream": "stdout",
       "text": [
        "\n",
        "19: 0.844658933471"
       ]
      },
      {
       "output_type": "stream",
       "stream": "stdout",
       "text": [
        "\n",
        "20: 0.851762542448"
       ]
      },
      {
       "output_type": "stream",
       "stream": "stdout",
       "text": [
        "\n",
        "21: 0.858101373007"
       ]
      },
      {
       "output_type": "stream",
       "stream": "stdout",
       "text": [
        "\n",
        "22: 0.862760869124"
       ]
      },
      {
       "output_type": "stream",
       "stream": "stdout",
       "text": [
        "\n",
        "23: 0.866829089008"
       ]
      },
      {
       "output_type": "stream",
       "stream": "stdout",
       "text": [
        "\n",
        "24: 0.870290175256"
       ]
      },
      {
       "output_type": "stream",
       "stream": "stdout",
       "text": [
        "\n",
        "25: 0.873120583555"
       ]
      },
      {
       "output_type": "stream",
       "stream": "stdout",
       "text": [
        "\n",
        "26: 0.875115276552"
       ]
      },
      {
       "output_type": "stream",
       "stream": "stdout",
       "text": [
        "\n",
        "27: 0.876700011076"
       ]
      },
      {
       "output_type": "stream",
       "stream": "stdout",
       "text": [
        "\n",
        "28: 0.877456897463"
       ]
      },
      {
       "output_type": "stream",
       "stream": "stdout",
       "text": [
        "\n",
        "29: 0.877961475749"
       ]
      },
      {
       "output_type": "stream",
       "stream": "stdout",
       "text": [
        "\n",
        "30: 0.878308360151"
       ]
      },
      {
       "output_type": "stream",
       "stream": "stdout",
       "text": [
        "\n",
        "31: 0.878316260882"
       ]
      },
      {
       "output_type": "stream",
       "stream": "stdout",
       "text": [
        "\n",
        "32: 0.878576403205"
       ]
      },
      {
       "output_type": "stream",
       "stream": "stdout",
       "text": [
        "\n",
        "33: 0.879088880978"
       ]
      },
      {
       "output_type": "stream",
       "stream": "stdout",
       "text": [
        "\n",
        "34: 0.878773496941"
       ]
      },
      {
       "output_type": "stream",
       "stream": "stdout",
       "text": [
        "\n",
        "35: 0.879120395637"
       ]
      },
      {
       "output_type": "stream",
       "stream": "stdout",
       "text": [
        "\n",
        "36: 0.878939098393"
       ]
      },
      {
       "output_type": "stream",
       "stream": "stdout",
       "text": [
        "\n",
        "37: 0.8790494544"
       ]
      },
      {
       "output_type": "stream",
       "stream": "stdout",
       "text": [
        "\n",
        "38: 0.879033673451"
       ]
      },
      {
       "output_type": "stream",
       "stream": "stdout",
       "text": [
        "\n",
        "39: 0.879096766791"
       ]
      },
      {
       "output_type": "stream",
       "stream": "stdout",
       "text": [
        "\n",
        "40: 0.87852910138"
       ]
      },
      {
       "output_type": "stream",
       "stream": "stdout",
       "text": [
        "\n",
        "41: 0.879041572938"
       ]
      },
      {
       "output_type": "stream",
       "stream": "stdout",
       "text": [
        "\n",
        "42: 0.879483084609"
       ]
      },
      {
       "output_type": "stream",
       "stream": "stdout",
       "text": [
        "\n",
        "43: 0.879356929005"
       ]
      },
      {
       "output_type": "stream",
       "stream": "stdout",
       "text": [
        "\n",
        "44: 0.879325395697"
       ]
      },
      {
       "output_type": "stream",
       "stream": "stdout",
       "text": [
        "\n",
        "45: 0.879041571074"
       ]
      },
      {
       "output_type": "stream",
       "stream": "stdout",
       "text": [
        "\n",
        "46: 0.87914405059"
       ]
      },
      {
       "output_type": "stream",
       "stream": "stdout",
       "text": [
        "\n",
        "47: 0.879167723571"
       ]
      },
      {
       "output_type": "stream",
       "stream": "stdout",
       "text": [
        "\n",
        "48: 0.878828696389"
       ]
      },
      {
       "output_type": "stream",
       "stream": "stdout",
       "text": [
        "\n",
        "49: 0.879080992679"
       ]
      },
      {
       "output_type": "stream",
       "stream": "stdout",
       "text": [
        "\n",
        "50: 0.879144067374"
       ]
      },
      {
       "output_type": "stream",
       "stream": "stdout",
       "text": [
        "\n"
       ]
      }
     ]
    },
    {
     "cell_type": "markdown",
     "metadata": {},
     "source": [
      "# SVM\n",
      "http://scikit-learn.org/stable/modules/svm.html\n",
      "\n",
      "E.g. The primal SVM Runs forever, probably because the data is not linearly seperaable. Soft margin SVM seems like the way to go. (E.g. http://tullo.ch/articles/svm-py/)"
     ]
    },
    {
     "cell_type": "code",
     "collapsed": false,
     "input": [
      "# clf = svm.SVC()\n",
      "# clf.fit(X, Y) \n",
      "# accuracy = cross_validation.cross_val_score(clf, X, Y, cv=10)\n",
      "# print mean(accuracy)"
     ],
     "language": "python",
     "metadata": {},
     "outputs": []
    },
    {
     "cell_type": "markdown",
     "metadata": {},
     "source": [
      "#knn\n",
      "http://scikit-learn.org/stable/modules/generated/sklearn.neighbors.KNeighborsClassifier.html\n",
      "\n",
      "Best - 0.869068206776 (knn = 2)"
     ]
    },
    {
     "cell_type": "code",
     "collapsed": false,
     "input": [
      "nn = range(1,11)\n",
      "\n",
      "for n in nn:\n",
      "    clf = KNeighborsClassifier(n_neighbors=n)\n",
      "    clf.fit(X,Y)\n",
      "    accuracy = cross_validation.cross_val_score(clf, X, Y, cv=10)\n",
      "    print str(n) + \": \" + str(mean(accuracy))"
     ],
     "language": "python",
     "metadata": {},
     "outputs": [
      {
       "output_type": "stream",
       "stream": "stdout",
       "text": [
        "1: 0.864771369175\n",
        "2: 0.869068206776"
       ]
      },
      {
       "output_type": "stream",
       "stream": "stdout",
       "text": [
        "\n",
        "3: 0.851384160165"
       ]
      },
      {
       "output_type": "stream",
       "stream": "stdout",
       "text": [
        "\n",
        "4: 0.851817795348"
       ]
      },
      {
       "output_type": "stream",
       "stream": "stdout",
       "text": [
        "\n",
        "5: 0.836853732658"
       ]
      },
      {
       "output_type": "stream",
       "stream": "stdout",
       "text": [
        "\n",
        "6: 0.837003559998"
       ]
      },
      {
       "output_type": "stream",
       "stream": "stdout",
       "text": [
        "\n",
        "7: 0.822922474031"
       ]
      },
      {
       "output_type": "stream",
       "stream": "stdout",
       "text": [
        "\n",
        "8: 0.822362710595"
       ]
      },
      {
       "output_type": "stream",
       "stream": "stdout",
       "text": [
        "\n",
        "9: 0.812192164925"
       ]
      },
      {
       "output_type": "stream",
       "stream": "stdout",
       "text": [
        "\n",
        "10: 0.811955654557"
       ]
      },
      {
       "output_type": "stream",
       "stream": "stdout",
       "text": [
        "\n"
       ]
      }
     ],
     "prompt_number": 4
    },
    {
     "cell_type": "markdown",
     "metadata": {},
     "source": [
      "# Adaboost\n",
      "AdaBoostClassifier, BernoulliNB, DecisionTreeClassifier, ExtraTreeClassifier, ExtraTreesClassifier, MultinomialNB, NuSVC, Perceptron, RandomForestClassifier, RidgeClassifierCV, SGDClassifier, SVC.\n",
      "\n",
      "Ref - http://stackoverflow.com/questions/18306416/adaboostclassifier-with-different-base-learners"
     ]
    },
    {
     "cell_type": "markdown",
     "metadata": {},
     "source": [
      "# Decision Stump (adaboost)\n",
      "Ref - http://scikit-learn.org/stable/auto_examples/ensemble/plot_adaboost_twoclass.html\n",
      "\n",
      "Best - 0.71952983934 (w/o adaboost - 0.705157018692)"
     ]
    },
    {
     "cell_type": "code",
     "collapsed": false,
     "input": [
      "# bdt = AdaBoostClassifier(DecisionTreeClassifier(max_depth=1),\n",
      "#                          algorithm=\"SAMME\",\n",
      "#                          n_estimators=200)\n",
      "# bdt.fit(X, Y)\n",
      "# accuracy = cross_validation.cross_val_score(bdt, X, Y, cv=10)\n",
      "# print mean(accuracy)"
     ],
     "language": "python",
     "metadata": {},
     "outputs": [
      {
       "output_type": "stream",
       "stream": "stdout",
       "text": [
        "0.71952983934\n"
       ]
      }
     ]
    },
    {
     "cell_type": "code",
     "collapsed": false,
     "input": [
      "nn = range(1,11)\n",
      "for n in nn:\n",
      "    bdt = AdaBoostClassifier(DecisionTreeClassifier(max_depth=n),\n",
      "                             algorithm=\"SAMME\",\n",
      "                             n_estimators=200)\n",
      "    bdt.fit(X, Y)\n",
      "    accuracy = cross_validation.cross_val_score(bdt, X, Y, cv=10)\n",
      "    print str(n) + \": \" + str(mean(accuracy))"
     ],
     "language": "python",
     "metadata": {},
     "outputs": []
    },
    {
     "cell_type": "code",
     "collapsed": false,
     "input": [],
     "language": "python",
     "metadata": {},
     "outputs": []
    }
   ],
   "metadata": {}
  }
 ]
}